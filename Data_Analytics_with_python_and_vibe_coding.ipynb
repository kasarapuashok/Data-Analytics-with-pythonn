{
  "nbformat": 4,
  "nbformat_minor": 0,
  "metadata": {
    "colab": {
      "provenance": []
    },
    "kernelspec": {
      "name": "python3",
      "display_name": "Python 3"
    },
    "language_info": {
      "name": "python"
    }
  },
  "cells": [
    {
      "cell_type": "code",
      "execution_count": null,
      "metadata": {
        "colab": {
          "base_uri": "https://localhost:8080/"
        },
        "id": "m-TEVQDm-VFD",
        "outputId": "d6aae850-3c82-49e0-ebb0-71448e1a3297"
      },
      "outputs": [
        {
          "output_type": "stream",
          "name": "stdout",
          "text": [
            "Welcome to ANSRise\n",
            "Welcome to python\n"
          ]
        }
      ],
      "source": [
        "# First python program on 12-05-2025 at 20:29 IST hrs by ANSRise\n",
        "\n",
        "print(\"Welcome to ANSRise\")\n",
        "print('Welcome to python')"
      ]
    },
    {
      "cell_type": "code",
      "source": [
        "age=39\n",
        "print(age)\n",
        "print('my age is ',age)\n",
        "print('my age is',age,'years')\n"
      ],
      "metadata": {
        "colab": {
          "base_uri": "https://localhost:8080/"
        },
        "id": "R_LqpLYnCKNC",
        "outputId": "cf979a33-9310-4575-c917-0414471b7d5e"
      },
      "execution_count": null,
      "outputs": [
        {
          "output_type": "stream",
          "name": "stdout",
          "text": [
            "39\n",
            "my age is  39\n",
            "my age is 39 years\n"
          ]
        }
      ]
    },
    {
      "cell_type": "markdown",
      "source": [
        "Formatted string literals - f- string\n",
        "\n",
        "fisrt in python 3.6 - DEC 23,2016 by Python Developer Eric. V Smith"
      ],
      "metadata": {
        "id": "oCKaG6tLEMRq"
      }
    },
    {
      "cell_type": "code",
      "source": [
        "age=39\n",
        "print(f'my age is {age} years')"
      ],
      "metadata": {
        "colab": {
          "base_uri": "https://localhost:8080/"
        },
        "id": "DuVFkTZgEyJh",
        "outputId": "8705770d-a7cc-4790-a49d-06f13efa81e6"
      },
      "execution_count": null,
      "outputs": [
        {
          "output_type": "stream",
          "name": "stdout",
          "text": [
            "my age is 39 years\n"
          ]
        }
      ]
    },
    {
      "cell_type": "code",
      "source": [
        "name1='ashish'\n",
        "name2='Eshwar'\n",
        "print(f'my name is {name1} and my friend name is {name2}')"
      ],
      "metadata": {
        "colab": {
          "base_uri": "https://localhost:8080/"
        },
        "id": "oCklwSnrFJEq",
        "outputId": "791368fe-97cc-4c6f-b491-01036e83d19d"
      },
      "execution_count": null,
      "outputs": [
        {
          "output_type": "stream",
          "name": "stdout",
          "text": [
            "my name is ashish and my friend name is Eshwar\n"
          ]
        }
      ]
    },
    {
      "cell_type": "code",
      "source": [
        "name1='ashish'\n",
        "name2='Eshwar'\n",
        "message=f'my name is {name1} and my friend name is {name2}'\n",
        "print(message)"
      ],
      "metadata": {
        "colab": {
          "base_uri": "https://localhost:8080/"
        },
        "id": "eX7JAD8GGRlD",
        "outputId": "f8738981-5e8c-4a0b-e2bc-420b294e8316"
      },
      "execution_count": null,
      "outputs": [
        {
          "output_type": "stream",
          "name": "stdout",
          "text": [
            "my name is ashish and my friend name is Eshwar\n"
          ]
        }
      ]
    },
    {
      "cell_type": "markdown",
      "source": [
        "**Day-2: 03-05-2025**"
      ],
      "metadata": {
        "id": "8h0AsA9s8Hqv"
      }
    },
    {
      "cell_type": "code",
      "source": [
        "#Data types on 03-05-2025 at 19:29 hrs IST by ANSRise\n",
        "age=25\n",
        "print(f'age={age}')\n",
        "print(type(age))     # To know the data type of the object 'age' using method 'type()'"
      ],
      "metadata": {
        "colab": {
          "base_uri": "https://localhost:8080/"
        },
        "id": "EhI3WLsz8Myu",
        "outputId": "7a46690a-14c7-4485-95b2-98f2d55e3c58"
      },
      "execution_count": null,
      "outputs": [
        {
          "output_type": "stream",
          "name": "stdout",
          "text": [
            "age=25\n",
            "<class 'int'>\n"
          ]
        }
      ]
    },
    {
      "cell_type": "code",
      "source": [
        "product_sold=200\n",
        "price=50\n",
        "total_price=product_sold*price\n",
        "print(f'revenue=Rs.{total_price}.00')"
      ],
      "metadata": {
        "colab": {
          "base_uri": "https://localhost:8080/"
        },
        "id": "IhBCt_kU9UHH",
        "outputId": "fc42a96f-3516-4455-cb9b-b95bf1c4d1d7"
      },
      "execution_count": null,
      "outputs": [
        {
          "output_type": "stream",
          "name": "stdout",
          "text": [
            "revenue=Rs.10000.00\n"
          ]
        }
      ]
    },
    {
      "cell_type": "code",
      "source": [
        "product_sold=200\n",
        "price=50\n",
        "total_price=product_sold*price\n",
        "print(f'revenue=Rs.{total_price:,.2f}')"
      ],
      "metadata": {
        "colab": {
          "base_uri": "https://localhost:8080/"
        },
        "id": "gLUJrZ5Q-3yg",
        "outputId": "a485be8c-497b-4914-efa8-ec6a9d2594b0"
      },
      "execution_count": null,
      "outputs": [
        {
          "output_type": "stream",
          "name": "stdout",
          "text": [
            "revenue=Rs.10,000.00\n"
          ]
        }
      ]
    },
    {
      "cell_type": "code",
      "source": [
        "temperature=98.6\n",
        "print(f'temperature={temperature:.2f}')\n",
        "print(type(temperature))"
      ],
      "metadata": {
        "colab": {
          "base_uri": "https://localhost:8080/"
        },
        "id": "Z8F1oqZGAtAI",
        "outputId": "fb7f2957-d42f-453b-af74-ec74dbe60f1f"
      },
      "execution_count": null,
      "outputs": [
        {
          "output_type": "stream",
          "name": "stdout",
          "text": [
            "temperature=98.60\n",
            "<class 'float'>\n"
          ]
        }
      ]
    },
    {
      "cell_type": "code",
      "source": [
        "impedance=3+4j\n",
        "print(f'impedance={impedance}')\n",
        "print(type(impedance))"
      ],
      "metadata": {
        "colab": {
          "base_uri": "https://localhost:8080/"
        },
        "id": "wDQYEC5sC2m6",
        "outputId": "386c5633-f06b-420c-b217-cd9a27d970c8"
      },
      "execution_count": null,
      "outputs": [
        {
          "output_type": "stream",
          "name": "stdout",
          "text": [
            "impedance=(3+4j)\n",
            "<class 'complex'>\n"
          ]
        }
      ]
    },
    {
      "cell_type": "code",
      "source": [
        "name='ANSRise'\n",
        "message=f'welcome to {name}'\n",
        "print(message)\n",
        "print(type(name))"
      ],
      "metadata": {
        "colab": {
          "base_uri": "https://localhost:8080/"
        },
        "id": "ENpPMGkKIhUx",
        "outputId": "2ed4c16f-23c0-4a75-cba2-979fd926caf2"
      },
      "execution_count": null,
      "outputs": [
        {
          "output_type": "stream",
          "name": "stdout",
          "text": [
            "welcome to ANSRise\n",
            "<class 'str'>\n"
          ]
        }
      ]
    },
    {
      "cell_type": "code",
      "source": [
        "coordinates=(10.0,98.0)\n",
        "print(f'coordinates={coordinates}')\n",
        "print(type(coordinates))"
      ],
      "metadata": {
        "colab": {
          "base_uri": "https://localhost:8080/"
        },
        "id": "94sqMVYoKu0P",
        "outputId": "f7970c98-202f-4a23-b188-095116b0c3f2"
      },
      "execution_count": null,
      "outputs": [
        {
          "output_type": "stream",
          "name": "stdout",
          "text": [
            "coordinates=(10.0, 98.0)\n",
            "<class 'tuple'>\n"
          ]
        }
      ]
    },
    {
      "cell_type": "code",
      "source": [
        "data=(10,98.5,'ashish',3+4j)\n",
        "print(f'data={data}')\n",
        "print(type(data))"
      ],
      "metadata": {
        "colab": {
          "base_uri": "https://localhost:8080/"
        },
        "id": "Y_s7tmN-Lg7g",
        "outputId": "0298cc1b-d2b3-4717-dbca-44ffd62733a2"
      },
      "execution_count": null,
      "outputs": [
        {
          "output_type": "stream",
          "name": "stdout",
          "text": [
            "data=(10, 98.5, 'ashish', (3+4j))\n",
            "<class 'tuple'>\n"
          ]
        }
      ]
    },
    {
      "cell_type": "code",
      "source": [
        "#various basic operation on the tuple\n",
        "\n",
        "data=(10,98.5,'ashish',3+4j,10,25,36,'kiran','swamy',25.9)\n",
        "\n",
        "#1.Length of Tuple\n",
        "print(f'length of data={len(data)}')   #method called \" len()\"\n",
        "\n",
        "# 2.to print specific element of the tuple use INDEXING\n",
        "# to print \"98.5\" and which index is 1\n",
        "print(f'data[1]={data[1]}')\n",
        "\n",
        "#To print \"3+4j\" and which index is 3\n",
        "print(f'answer={data[3]}')\n",
        "\n",
        "#3.SLICING= dividing the tuple as per the requirements using indexing\n",
        "\n",
        "print(f'data tuple slice from index 3 to 7={data[3:8]}')\n",
        "print(f'data tuple slice from index 5 to 9={data[5:10]}')\n",
        "print(f'data tuple slice from index 0 to 9={data[0:10]}')\n",
        "print(f'data tuple slice from index 0 to end ={data[0:]}')  #when don't know about end point\n",
        "print(f'data tuple slice from index start to end={data[:]}')  #when don't know about start and end point\n",
        "print(f'data tuple slice from 0 to end but step 2={data[0::2]}') #landing from index 0 to 0+2=3 and so on\n",
        "print(f'data tuple slice from 0 to end but step 3={data[0::3]}') #landing from index 0 to 0+3=3 and so on\n",
        "\n",
        "print(f'print last element with forward indexing {data[9]}')\n",
        "print(f'print last element with backward indexing {data[-1]}')\n",
        "\n",
        "print(f'data tuple slice with backward indexing {data[-5:-2]}')\n"
      ],
      "metadata": {
        "colab": {
          "base_uri": "https://localhost:8080/"
        },
        "id": "zmoL20ZeMM2Z",
        "outputId": "865129e3-ea3c-490e-b913-d86a2e4962ad"
      },
      "execution_count": null,
      "outputs": [
        {
          "output_type": "stream",
          "name": "stdout",
          "text": [
            "length of data=10\n",
            "data[1]=98.5\n",
            "answer=(3+4j)\n",
            "data tuple slice from index 3 to 7=((3+4j), 10, 25, 36, 'kiran')\n",
            "data tuple slice from index 5 to 9=(25, 36, 'kiran', 'swamy', 25.9)\n",
            "data tuple slice from index 0 to 9=(10, 98.5, 'ashish', (3+4j), 10, 25, 36, 'kiran', 'swamy', 25.9)\n",
            "data tuple slice from index 0 to end =(10, 98.5, 'ashish', (3+4j), 10, 25, 36, 'kiran', 'swamy', 25.9)\n",
            "data tuple slice from index start to end=(10, 98.5, 'ashish', (3+4j), 10, 25, 36, 'kiran', 'swamy', 25.9)\n",
            "data tuple slice from 0 to end but step 2=(10, 'ashish', 10, 36, 'swamy')\n",
            "data tuple slice from 0 to end but step 3=(10, (3+4j), 36, 25.9)\n",
            "print last element with forward indexing 25.9\n",
            "print last element with backward indexing 25.9\n",
            "data tuple slice with backward indexing (25, 36, 'kiran')\n",
            "data tuple in reverse ()\n"
          ]
        }
      ]
    },
    {
      "cell_type": "code",
      "source": [
        "data=(10,98.5,'ashish',3+4j,10,25,36,'kiran','swamy',25.9)\n",
        "\n",
        "print(data[::-1])  #reverse order\n",
        "\n",
        "print(data[4:8])\n",
        "\n",
        "print(data[7:3:-1])\n",
        "\n",
        "print(data[-5:-1])"
      ],
      "metadata": {
        "colab": {
          "base_uri": "https://localhost:8080/"
        },
        "id": "zNPfC8hzFVAO",
        "outputId": "8cdbba3a-7384-45dc-e0c7-b12713eaddf5"
      },
      "execution_count": null,
      "outputs": [
        {
          "output_type": "stream",
          "name": "stdout",
          "text": [
            "(25.9, 'swamy', 'kiran', 36, 25, 10, (3+4j), 'ashish', 98.5, 10)\n",
            "(10, 25, 36, 'kiran')\n",
            "('kiran', 36, 25, 10)\n",
            "(25, 36, 'kiran', 'swamy')\n"
          ]
        }
      ]
    },
    {
      "cell_type": "markdown",
      "source": [
        "**Day-3: 14-05-2025**"
      ],
      "metadata": {
        "id": "Vf0cVrDeJwh-"
      }
    },
    {
      "cell_type": "code",
      "source": [
        "shopping_list=['apple','sugar','10',25.8,'3+4j']\n",
        "\n",
        "print(f'shopping_list={shopping_list}')\n",
        "print(type(shopping_list))"
      ],
      "metadata": {
        "colab": {
          "base_uri": "https://localhost:8080/"
        },
        "id": "64xConMwJ3MM",
        "outputId": "ab0e70ec-a112-49cd-8717-23076f028475"
      },
      "execution_count": null,
      "outputs": [
        {
          "output_type": "stream",
          "name": "stdout",
          "text": [
            "shopping_list=['apple', 'sugar', '10', 25.8, '3+4j']\n",
            "<class 'list'>\n"
          ]
        }
      ]
    },
    {
      "cell_type": "code",
      "source": [
        "data=[10,20,30,40,'ramana',65.4,'keerthi',78,88.4]\n",
        "\n",
        "#list operations\n",
        "#1.Indexing\n",
        "print(f'data[3]={data[3]}')\n",
        "print(f'data[-3]={data[-3]}')\n",
        "\n",
        "#2.Slicing\n",
        "print(f'data[3:6]={data[3:6]}')\n",
        "print(f'data[3:]= {data[3:]}')\n",
        "print(f'data[:6]={data[:6]}')\n",
        "print(f'data[::2]={data[::2]}')\n",
        "print(f'data[::-1]={data[::-1]}')"
      ],
      "metadata": {
        "colab": {
          "base_uri": "https://localhost:8080/"
        },
        "id": "BqBoLn-KKTPp",
        "outputId": "003b1f29-6148-4b34-c1ab-e6df5cc7627e"
      },
      "execution_count": null,
      "outputs": [
        {
          "output_type": "stream",
          "name": "stdout",
          "text": [
            "data[3]=40\n",
            "data[-3]=keerthi\n",
            "data[3:6]=[40, 'ramana', 65.4]\n",
            "data[3:]= [40, 'ramana', 65.4, 'keerthi', 78, 88.4]\n",
            "data[:6]=[10, 20, 30, 40, 'ramana', 65.4]\n",
            "data[::2]=[10, 30, 'ramana', 'keerthi', 88.4]\n",
            "data[::-1]=[88.4, 78, 'keerthi', 65.4, 'ramana', 40, 30, 20, 10]\n"
          ]
        }
      ]
    },
    {
      "cell_type": "code",
      "source": [
        "#Dictionary\n",
        "\n",
        "student={\"name\":\"rama\",\"rollno\":1011,\"marks\":95}\n",
        "print(f'student={student}')\n",
        "print(type(student))\n",
        "\n",
        "#print with with key\n",
        "\n",
        "print(f'name of student ={student[\"name\"]}')\n",
        "print(f'rollno of student ={student[\"rollno\"]}')\n",
        "print(f'marks of student ={student[\"marks\"]}')\n"
      ],
      "metadata": {
        "colab": {
          "base_uri": "https://localhost:8080/"
        },
        "id": "3nIEDWjJPIuN",
        "outputId": "8488b02e-c1ac-4b90-e13a-1369b0d5008a"
      },
      "execution_count": null,
      "outputs": [
        {
          "output_type": "stream",
          "name": "stdout",
          "text": [
            "student={'name': 'rama', 'rollno': 1011, 'marks': 95}\n",
            "<class 'dict'>\n",
            "name of student =rama\n",
            "rollno of student =1011\n",
            "marks of student =95\n"
          ]
        }
      ]
    },
    {
      "cell_type": "code",
      "source": [
        "#use case on DICTIONARY,LIST ,TUPLE\n",
        "\n",
        "fruit_shop={\"fruit_names\":['mango','banana','apples'],\n",
        "            \"fruit_price\":[100,200,300],\n",
        "            \"fruit_quantity\":[10,20,30],\n",
        "            \"fruit_color\":('red','yellow','green'),\n",
        "            \"fruit_taste\":('sweet','sour','bitter'),\n",
        "            \"customer_names\":[\"akash\",\"kiran\",\"rahul\",\"veena\"],\n",
        "            \"orders\":[10,20,30,40]\n",
        "            }\n",
        "\n",
        "print(f'fruit_shop={fruit_shop}')\n",
        "print(type(fruit_shop))\n",
        "\n",
        "print(f'fruit_names={fruit_shop[\"fruit_names\"]}')\n",
        "print(f'fruit at index 0 is {fruit_shop[\"fruit_names\"][0]}')\n",
        "print(f'fruit at index 1 is {fruit_shop[\"fruit_names\"][1]}')\n",
        "print(f'fruit at index 2 is {fruit_shop[\"fruit_names\"][2]}')\n",
        "\n",
        "print(f'fruit at index 0 to 1 is {fruit_shop[\"fruit_names\"][0:2]}')\n",
        "\n",
        "print(f'fruit_price={fruit_shop[\"fruit_price\"]}')\n",
        "print(f'fruit_quantity={fruit_shop[\"fruit_quantity\"]}')\n",
        "print(f'fruit_color={fruit_shop[\"fruit_color\"]}')\n",
        "print(f'fruit_taste={fruit_shop[\"fruit_taste\"]}')\n",
        "\n",
        "print(f'customer_names={fruit_shop[\"customer_names\"]}')\n",
        "print(f'orders={fruit_shop[\"orders\"]}')"
      ],
      "metadata": {
        "colab": {
          "base_uri": "https://localhost:8080/"
        },
        "id": "loYfr-IpSzL2",
        "outputId": "0dcc1c39-66c8-4efe-9465-ed507486486d"
      },
      "execution_count": null,
      "outputs": [
        {
          "output_type": "stream",
          "name": "stdout",
          "text": [
            "fruit_shop={'fruit_names': ['mango', 'banana', 'apples'], 'fruit_price': [100, 200, 300], 'fruit_quantity': [10, 20, 30], 'fruit_color': ('red', 'yellow', 'green'), 'fruit_taste': ('sweet', 'sour', 'bitter'), 'customer_names': ['akash', 'kiran', 'rahul', 'veena'], 'orders': [10, 20, 30, 40]}\n",
            "<class 'dict'>\n",
            "fruit_names=['mango', 'banana', 'apples']\n",
            "fruit at index 0 is mango\n",
            "fruit at index 1 is banana\n",
            "fruit at index 2 is apples\n",
            "fruit at index 0 to 1 is ['mango', 'banana']\n",
            "fruit_price=[100, 200, 300]\n",
            "fruit_quantity=[10, 20, 30]\n",
            "fruit_color=('red', 'yellow', 'green')\n",
            "fruit_taste=('sweet', 'sour', 'bitter')\n",
            "customer_names=['akash', 'kiran', 'rahul', 'veena']\n",
            "orders=[10, 20, 30, 40]\n"
          ]
        }
      ]
    },
    {
      "cell_type": "markdown",
      "source": [
        "**DAY-4: 15-05-2025**"
      ],
      "metadata": {
        "id": "keJkS1EDyNjA"
      }
    },
    {
      "cell_type": "code",
      "source": [
        "walmart={\n",
        "\n",
        "         \"store\":[1,1,1],\n",
        "         \"date\":['05-02-2010','12-02-2010','19-02-2010'],\n",
        "         \"weekly_sales\":(1643690.9,1641957.44,1611968.17),\n",
        "         'holiday_flag':(0,1,0),\n",
        "         'temperature':[42.31,38.51,39.93],\n",
        "         'fuel_price':[2.572,2.548,2.514],\n",
        "         'cpi':[211.09,211.24,244.28],\n",
        "         'unemployment':[8.1,8.1,8.1]\n",
        "\n",
        "}\n",
        "\n",
        "print(walmart)\n",
        "\n",
        "#Manager want the total of the weekly sales\n",
        "total_weekly_sales=walmart['weekly_sales'][0]+walmart['weekly_sales'][1]+walmart['weekly_sales'][2]\n",
        "print(f'total weekly sales = {total_weekly_sales}')\n",
        "\n",
        "#Manager want the average of the weekly sales\n",
        "average_weekly_sales=total_weekly_sales/3\n",
        "print(f'average weekly sales = {average_weekly_sales}')\n",
        "\n",
        "#Manager want know what is the minimum weekly sales\n",
        "minimum_weekly_sales=min(walmart['weekly_sales'])\n",
        "print(f'minimum weekly sales = {minimum_weekly_sales}')\n",
        "\n",
        "#Manager want know what is the maximum weekly sales\n",
        "maximum_weekly_sales=max(walmart['weekly_sales'])\n",
        "print(f'maximum weekly sales = {maximum_weekly_sales}')\n",
        "\n",
        "#Manager want know what is the average weekly sales\n",
        "average_weekly_sales=sum(walmart['weekly_sales'])/len(walmart['weekly_sales'])\n",
        "print(f'average weekly sales by sum and len method = {average_weekly_sales}')\n",
        "\n",
        "#Manager want know average weekly sales vs temperature\n",
        "\n",
        "print(f'average weekly sales ={sum(walmart[\"weekly_sales\"])/len(walmart[\"weekly_sales\"])} vs temperature={sum(walmart[\"temperature\"])/len(walmart[\"temperature\"])}')\n",
        "\n",
        "#\n"
      ],
      "metadata": {
        "colab": {
          "base_uri": "https://localhost:8080/"
        },
        "id": "6w4qy_fl1tFG",
        "outputId": "865249ff-6a43-4d82-dde2-6548ef197d5b"
      },
      "execution_count": null,
      "outputs": [
        {
          "output_type": "stream",
          "name": "stdout",
          "text": [
            "{'store': [1, 1, 1], 'date': ['05-02-2010', '12-02-2010', '19-02-2010'], 'weekly_sales': (1643690.9, 1641957.44, 1611968.17), 'holiday_flag': (0, 1, 0), 'temperature': [42.31, 38.51, 39.93], 'fuel_price': [2.572, 2.548, 2.514], 'cpi': [211.09, 211.24, 244.28], 'unemployment': [8.1, 8.1, 8.1]}\n",
            "total weekly sales = 4897616.51\n",
            "average weekly sales = 1632538.8366666667\n",
            "minimum weekly sales = 1611968.17\n",
            "maximum weekly sales = 1643690.9\n",
            "average weekly sales by sum and len method = 1632538.8366666667\n",
            "average weekly sales =1632538.8366666667 vs temperature=40.25\n"
          ]
        }
      ]
    },
    {
      "cell_type": "markdown",
      "source": [
        "** In pandas, we have one \"Data Frame\"--\n",
        "\n",
        "is a two dimensional DS,\n",
        "Mutable,\n",
        "allow the heterogeneous(different) data\n",
        "Lable the data in columns and rows **"
      ],
      "metadata": {
        "id": "JGHzgKGvC9bO"
      }
    },
    {
      "cell_type": "code",
      "source": [
        "import pandas as pd\n",
        "\n",
        "walmart={\n",
        "\n",
        "         \"store\":[1,1,1],\n",
        "         \"date\":['05-02-2010','12-02-2010','19-02-2010'],\n",
        "         \"weekly_sales\":(1643690.9,1641957.44,1611968.17),\n",
        "         'holiday_flag':(0,1,0),\n",
        "         'temperature':[42.31,38.51,39.93],\n",
        "         'fuel_price':[2.572,2.548,2.514],\n",
        "         'cpi':[211.09,211.24,244.28],\n",
        "         'unemployment':[8.1,8.1,'four']\n",
        "\n",
        "}\n",
        "\n",
        "df=pd.DataFrame(walmart)\n",
        "print(df)"
      ],
      "metadata": {
        "colab": {
          "base_uri": "https://localhost:8080/"
        },
        "id": "lSGN1LkhDmYa",
        "outputId": "927eab88-e7a6-449d-e4f0-ef0f3b31d988"
      },
      "execution_count": null,
      "outputs": [
        {
          "output_type": "stream",
          "name": "stdout",
          "text": [
            "   store        date  weekly_sales  holiday_flag  temperature  fuel_price  \\\n",
            "0      1  05-02-2010    1643690.90             0        42.31       2.572   \n",
            "1      1  12-02-2010    1641957.44             1        38.51       2.548   \n",
            "2      1  19-02-2010    1611968.17             0        39.93       2.514   \n",
            "\n",
            "      cpi unemployment  \n",
            "0  211.09          8.1  \n",
            "1  211.24          8.1  \n",
            "2  244.28         four  \n"
          ]
        }
      ]
    },
    {
      "cell_type": "code",
      "source": [
        "#to print weekly_sales\n",
        "\n",
        "print(df['weekly_sales'])\n",
        "\n",
        "print('******************************')\n",
        "\n",
        "#to print a row at index 0\n",
        "\n",
        "print(df.loc[0])\n",
        "\n",
        "print('******************************')\n",
        "\n",
        "print(\"****************Basic operations on Data Frame************\")\n",
        "\n",
        "print(f'Shape  = {df.shape}')\n",
        "print(f'info  = {df.info()}')\n",
        "print(f'describe  = {df.describe()}')\n",
        "print(f'head  = {df.head()}')\n",
        "print(f'tail  = {df.tail()}')\n"
      ],
      "metadata": {
        "colab": {
          "base_uri": "https://localhost:8080/"
        },
        "id": "SDwZwuk7GcWs",
        "outputId": "b0189dee-9cfd-400b-d4f2-59106c2c8f00"
      },
      "execution_count": null,
      "outputs": [
        {
          "output_type": "stream",
          "name": "stdout",
          "text": [
            "0    1643690.90\n",
            "1    1641957.44\n",
            "2    1611968.17\n",
            "Name: weekly_sales, dtype: float64\n",
            "******************************\n",
            "store                    1\n",
            "date            05-02-2010\n",
            "weekly_sales     1643690.9\n",
            "holiday_flag             0\n",
            "temperature          42.31\n",
            "fuel_price           2.572\n",
            "cpi                 211.09\n",
            "unemployment           8.1\n",
            "Name: 0, dtype: object\n",
            "******************************\n",
            "****************Basic operations on Data Frame************\n",
            "Shape  = (3, 8)\n",
            "<class 'pandas.core.frame.DataFrame'>\n",
            "RangeIndex: 3 entries, 0 to 2\n",
            "Data columns (total 8 columns):\n",
            " #   Column        Non-Null Count  Dtype  \n",
            "---  ------        --------------  -----  \n",
            " 0   store         3 non-null      int64  \n",
            " 1   date          3 non-null      object \n",
            " 2   weekly_sales  3 non-null      float64\n",
            " 3   holiday_flag  3 non-null      int64  \n",
            " 4   temperature   3 non-null      float64\n",
            " 5   fuel_price    3 non-null      float64\n",
            " 6   cpi           3 non-null      float64\n",
            " 7   unemployment  3 non-null      object \n",
            "dtypes: float64(4), int64(2), object(2)\n",
            "memory usage: 324.0+ bytes\n",
            "info  = None\n",
            "describe  =        store  weekly_sales  holiday_flag  temperature  fuel_price         cpi\n",
            "count    3.0  3.000000e+00      3.000000     3.000000    3.000000    3.000000\n",
            "mean     1.0  1.632539e+06      0.333333    40.250000    2.544667  222.203333\n",
            "std      0.0  1.783579e+04      0.577350     1.920104    0.029143   19.119101\n",
            "min      1.0  1.611968e+06      0.000000    38.510000    2.514000  211.090000\n",
            "25%      1.0  1.626963e+06      0.000000    39.220000    2.531000  211.165000\n",
            "50%      1.0  1.641957e+06      0.000000    39.930000    2.548000  211.240000\n",
            "75%      1.0  1.642824e+06      0.500000    41.120000    2.560000  227.760000\n",
            "max      1.0  1.643691e+06      1.000000    42.310000    2.572000  244.280000\n",
            "head  =    store        date  weekly_sales  holiday_flag  temperature  fuel_price  \\\n",
            "0      1  05-02-2010    1643690.90             0        42.31       2.572   \n",
            "1      1  12-02-2010    1641957.44             1        38.51       2.548   \n",
            "2      1  19-02-2010    1611968.17             0        39.93       2.514   \n",
            "\n",
            "      cpi unemployment  \n",
            "0  211.09          8.1  \n",
            "1  211.24          8.1  \n",
            "2  244.28         four  \n",
            "tail  =    store        date  weekly_sales  holiday_flag  temperature  fuel_price  \\\n",
            "0      1  05-02-2010    1643690.90             0        42.31       2.572   \n",
            "1      1  12-02-2010    1641957.44             1        38.51       2.548   \n",
            "2      1  19-02-2010    1611968.17             0        39.93       2.514   \n",
            "\n",
            "      cpi unemployment  \n",
            "0  211.09          8.1  \n",
            "1  211.24          8.1  \n",
            "2  244.28         four  \n"
          ]
        }
      ]
    },
    {
      "cell_type": "markdown",
      "source": [
        "# **DAY-5:16-05-2025**"
      ],
      "metadata": {
        "id": "AQ0rrWIZ98UJ"
      }
    },
    {
      "cell_type": "code",
      "source": [
        "#Want to read some data from outside like from computer,other web sites....\n",
        "\n",
        "import pandas as pd\n",
        "\n",
        "df = pd.read_parquet(\"hf://datasets/tonyassi/clothing-sales-data/data/train-00000-of-00001.parquet\")"
      ],
      "metadata": {
        "colab": {
          "base_uri": "https://localhost:8080/"
        },
        "id": "7BcCItWI-CgI",
        "outputId": "a57214fe-0c6e-4249-f30d-b6d87dd209b2"
      },
      "execution_count": null,
      "outputs": [
        {
          "output_type": "stream",
          "name": "stderr",
          "text": [
            "/usr/local/lib/python3.11/dist-packages/huggingface_hub/utils/_auth.py:94: UserWarning: \n",
            "The secret `HF_TOKEN` does not exist in your Colab secrets.\n",
            "To authenticate with the Hugging Face Hub, create a token in your settings tab (https://huggingface.co/settings/tokens), set it as secret in your Google Colab and restart your session.\n",
            "You will be able to reuse this secret in all of your notebooks.\n",
            "Please note that authentication is recommended but still optional to access public models or datasets.\n",
            "  warnings.warn(\n"
          ]
        }
      ]
    },
    {
      "cell_type": "code",
      "source": [
        "#Loading from the computer\n",
        "\n",
        "import pandas as pd\n",
        "\n",
        "df=pd.read_csv('/content/Walmart_Sales.csv')\n",
        "\n",
        "df.head()"
      ],
      "metadata": {
        "colab": {
          "base_uri": "https://localhost:8080/",
          "height": 206
        },
        "id": "wQ_OKi9K_TpH",
        "outputId": "b6230994-e49e-48e5-afbe-a3fa5ede771b"
      },
      "execution_count": null,
      "outputs": [
        {
          "output_type": "execute_result",
          "data": {
            "text/plain": [
              "   Store        Date  Weekly_Sales  Holiday_Flag  Temperature  Fuel_Price  \\\n",
              "0      1  05-02-2010    1643690.90             0        42.31       2.572   \n",
              "1      1  12-02-2010    1641957.44             1        38.51       2.548   \n",
              "2      1  19-02-2010    1611968.17             0        39.93       2.514   \n",
              "3      1  26-02-2010    1409727.59             0        46.63       2.561   \n",
              "4      1  05-03-2010    1554806.68             0        46.50       2.625   \n",
              "\n",
              "          CPI  Unemployment  \n",
              "0  211.096358         8.106  \n",
              "1  211.242170         8.106  \n",
              "2  211.289143         8.106  \n",
              "3  211.319643         8.106  \n",
              "4  211.350143         8.106  "
            ],
            "text/html": [
              "\n",
              "  <div id=\"df-71dc3f88-4c39-4c92-a9ff-4c96f58192ba\" class=\"colab-df-container\">\n",
              "    <div>\n",
              "<style scoped>\n",
              "    .dataframe tbody tr th:only-of-type {\n",
              "        vertical-align: middle;\n",
              "    }\n",
              "\n",
              "    .dataframe tbody tr th {\n",
              "        vertical-align: top;\n",
              "    }\n",
              "\n",
              "    .dataframe thead th {\n",
              "        text-align: right;\n",
              "    }\n",
              "</style>\n",
              "<table border=\"1\" class=\"dataframe\">\n",
              "  <thead>\n",
              "    <tr style=\"text-align: right;\">\n",
              "      <th></th>\n",
              "      <th>Store</th>\n",
              "      <th>Date</th>\n",
              "      <th>Weekly_Sales</th>\n",
              "      <th>Holiday_Flag</th>\n",
              "      <th>Temperature</th>\n",
              "      <th>Fuel_Price</th>\n",
              "      <th>CPI</th>\n",
              "      <th>Unemployment</th>\n",
              "    </tr>\n",
              "  </thead>\n",
              "  <tbody>\n",
              "    <tr>\n",
              "      <th>0</th>\n",
              "      <td>1</td>\n",
              "      <td>05-02-2010</td>\n",
              "      <td>1643690.90</td>\n",
              "      <td>0</td>\n",
              "      <td>42.31</td>\n",
              "      <td>2.572</td>\n",
              "      <td>211.096358</td>\n",
              "      <td>8.106</td>\n",
              "    </tr>\n",
              "    <tr>\n",
              "      <th>1</th>\n",
              "      <td>1</td>\n",
              "      <td>12-02-2010</td>\n",
              "      <td>1641957.44</td>\n",
              "      <td>1</td>\n",
              "      <td>38.51</td>\n",
              "      <td>2.548</td>\n",
              "      <td>211.242170</td>\n",
              "      <td>8.106</td>\n",
              "    </tr>\n",
              "    <tr>\n",
              "      <th>2</th>\n",
              "      <td>1</td>\n",
              "      <td>19-02-2010</td>\n",
              "      <td>1611968.17</td>\n",
              "      <td>0</td>\n",
              "      <td>39.93</td>\n",
              "      <td>2.514</td>\n",
              "      <td>211.289143</td>\n",
              "      <td>8.106</td>\n",
              "    </tr>\n",
              "    <tr>\n",
              "      <th>3</th>\n",
              "      <td>1</td>\n",
              "      <td>26-02-2010</td>\n",
              "      <td>1409727.59</td>\n",
              "      <td>0</td>\n",
              "      <td>46.63</td>\n",
              "      <td>2.561</td>\n",
              "      <td>211.319643</td>\n",
              "      <td>8.106</td>\n",
              "    </tr>\n",
              "    <tr>\n",
              "      <th>4</th>\n",
              "      <td>1</td>\n",
              "      <td>05-03-2010</td>\n",
              "      <td>1554806.68</td>\n",
              "      <td>0</td>\n",
              "      <td>46.50</td>\n",
              "      <td>2.625</td>\n",
              "      <td>211.350143</td>\n",
              "      <td>8.106</td>\n",
              "    </tr>\n",
              "  </tbody>\n",
              "</table>\n",
              "</div>\n",
              "    <div class=\"colab-df-buttons\">\n",
              "\n",
              "  <div class=\"colab-df-container\">\n",
              "    <button class=\"colab-df-convert\" onclick=\"convertToInteractive('df-71dc3f88-4c39-4c92-a9ff-4c96f58192ba')\"\n",
              "            title=\"Convert this dataframe to an interactive table.\"\n",
              "            style=\"display:none;\">\n",
              "\n",
              "  <svg xmlns=\"http://www.w3.org/2000/svg\" height=\"24px\" viewBox=\"0 -960 960 960\">\n",
              "    <path d=\"M120-120v-720h720v720H120Zm60-500h600v-160H180v160Zm220 220h160v-160H400v160Zm0 220h160v-160H400v160ZM180-400h160v-160H180v160Zm440 0h160v-160H620v160ZM180-180h160v-160H180v160Zm440 0h160v-160H620v160Z\"/>\n",
              "  </svg>\n",
              "    </button>\n",
              "\n",
              "  <style>\n",
              "    .colab-df-container {\n",
              "      display:flex;\n",
              "      gap: 12px;\n",
              "    }\n",
              "\n",
              "    .colab-df-convert {\n",
              "      background-color: #E8F0FE;\n",
              "      border: none;\n",
              "      border-radius: 50%;\n",
              "      cursor: pointer;\n",
              "      display: none;\n",
              "      fill: #1967D2;\n",
              "      height: 32px;\n",
              "      padding: 0 0 0 0;\n",
              "      width: 32px;\n",
              "    }\n",
              "\n",
              "    .colab-df-convert:hover {\n",
              "      background-color: #E2EBFA;\n",
              "      box-shadow: 0px 1px 2px rgba(60, 64, 67, 0.3), 0px 1px 3px 1px rgba(60, 64, 67, 0.15);\n",
              "      fill: #174EA6;\n",
              "    }\n",
              "\n",
              "    .colab-df-buttons div {\n",
              "      margin-bottom: 4px;\n",
              "    }\n",
              "\n",
              "    [theme=dark] .colab-df-convert {\n",
              "      background-color: #3B4455;\n",
              "      fill: #D2E3FC;\n",
              "    }\n",
              "\n",
              "    [theme=dark] .colab-df-convert:hover {\n",
              "      background-color: #434B5C;\n",
              "      box-shadow: 0px 1px 3px 1px rgba(0, 0, 0, 0.15);\n",
              "      filter: drop-shadow(0px 1px 2px rgba(0, 0, 0, 0.3));\n",
              "      fill: #FFFFFF;\n",
              "    }\n",
              "  </style>\n",
              "\n",
              "    <script>\n",
              "      const buttonEl =\n",
              "        document.querySelector('#df-71dc3f88-4c39-4c92-a9ff-4c96f58192ba button.colab-df-convert');\n",
              "      buttonEl.style.display =\n",
              "        google.colab.kernel.accessAllowed ? 'block' : 'none';\n",
              "\n",
              "      async function convertToInteractive(key) {\n",
              "        const element = document.querySelector('#df-71dc3f88-4c39-4c92-a9ff-4c96f58192ba');\n",
              "        const dataTable =\n",
              "          await google.colab.kernel.invokeFunction('convertToInteractive',\n",
              "                                                    [key], {});\n",
              "        if (!dataTable) return;\n",
              "\n",
              "        const docLinkHtml = 'Like what you see? Visit the ' +\n",
              "          '<a target=\"_blank\" href=https://colab.research.google.com/notebooks/data_table.ipynb>data table notebook</a>'\n",
              "          + ' to learn more about interactive tables.';\n",
              "        element.innerHTML = '';\n",
              "        dataTable['output_type'] = 'display_data';\n",
              "        await google.colab.output.renderOutput(dataTable, element);\n",
              "        const docLink = document.createElement('div');\n",
              "        docLink.innerHTML = docLinkHtml;\n",
              "        element.appendChild(docLink);\n",
              "      }\n",
              "    </script>\n",
              "  </div>\n",
              "\n",
              "\n",
              "    <div id=\"df-4087955d-005d-4552-adc9-1d4c61ea9761\">\n",
              "      <button class=\"colab-df-quickchart\" onclick=\"quickchart('df-4087955d-005d-4552-adc9-1d4c61ea9761')\"\n",
              "                title=\"Suggest charts\"\n",
              "                style=\"display:none;\">\n",
              "\n",
              "<svg xmlns=\"http://www.w3.org/2000/svg\" height=\"24px\"viewBox=\"0 0 24 24\"\n",
              "     width=\"24px\">\n",
              "    <g>\n",
              "        <path d=\"M19 3H5c-1.1 0-2 .9-2 2v14c0 1.1.9 2 2 2h14c1.1 0 2-.9 2-2V5c0-1.1-.9-2-2-2zM9 17H7v-7h2v7zm4 0h-2V7h2v10zm4 0h-2v-4h2v4z\"/>\n",
              "    </g>\n",
              "</svg>\n",
              "      </button>\n",
              "\n",
              "<style>\n",
              "  .colab-df-quickchart {\n",
              "      --bg-color: #E8F0FE;\n",
              "      --fill-color: #1967D2;\n",
              "      --hover-bg-color: #E2EBFA;\n",
              "      --hover-fill-color: #174EA6;\n",
              "      --disabled-fill-color: #AAA;\n",
              "      --disabled-bg-color: #DDD;\n",
              "  }\n",
              "\n",
              "  [theme=dark] .colab-df-quickchart {\n",
              "      --bg-color: #3B4455;\n",
              "      --fill-color: #D2E3FC;\n",
              "      --hover-bg-color: #434B5C;\n",
              "      --hover-fill-color: #FFFFFF;\n",
              "      --disabled-bg-color: #3B4455;\n",
              "      --disabled-fill-color: #666;\n",
              "  }\n",
              "\n",
              "  .colab-df-quickchart {\n",
              "    background-color: var(--bg-color);\n",
              "    border: none;\n",
              "    border-radius: 50%;\n",
              "    cursor: pointer;\n",
              "    display: none;\n",
              "    fill: var(--fill-color);\n",
              "    height: 32px;\n",
              "    padding: 0;\n",
              "    width: 32px;\n",
              "  }\n",
              "\n",
              "  .colab-df-quickchart:hover {\n",
              "    background-color: var(--hover-bg-color);\n",
              "    box-shadow: 0 1px 2px rgba(60, 64, 67, 0.3), 0 1px 3px 1px rgba(60, 64, 67, 0.15);\n",
              "    fill: var(--button-hover-fill-color);\n",
              "  }\n",
              "\n",
              "  .colab-df-quickchart-complete:disabled,\n",
              "  .colab-df-quickchart-complete:disabled:hover {\n",
              "    background-color: var(--disabled-bg-color);\n",
              "    fill: var(--disabled-fill-color);\n",
              "    box-shadow: none;\n",
              "  }\n",
              "\n",
              "  .colab-df-spinner {\n",
              "    border: 2px solid var(--fill-color);\n",
              "    border-color: transparent;\n",
              "    border-bottom-color: var(--fill-color);\n",
              "    animation:\n",
              "      spin 1s steps(1) infinite;\n",
              "  }\n",
              "\n",
              "  @keyframes spin {\n",
              "    0% {\n",
              "      border-color: transparent;\n",
              "      border-bottom-color: var(--fill-color);\n",
              "      border-left-color: var(--fill-color);\n",
              "    }\n",
              "    20% {\n",
              "      border-color: transparent;\n",
              "      border-left-color: var(--fill-color);\n",
              "      border-top-color: var(--fill-color);\n",
              "    }\n",
              "    30% {\n",
              "      border-color: transparent;\n",
              "      border-left-color: var(--fill-color);\n",
              "      border-top-color: var(--fill-color);\n",
              "      border-right-color: var(--fill-color);\n",
              "    }\n",
              "    40% {\n",
              "      border-color: transparent;\n",
              "      border-right-color: var(--fill-color);\n",
              "      border-top-color: var(--fill-color);\n",
              "    }\n",
              "    60% {\n",
              "      border-color: transparent;\n",
              "      border-right-color: var(--fill-color);\n",
              "    }\n",
              "    80% {\n",
              "      border-color: transparent;\n",
              "      border-right-color: var(--fill-color);\n",
              "      border-bottom-color: var(--fill-color);\n",
              "    }\n",
              "    90% {\n",
              "      border-color: transparent;\n",
              "      border-bottom-color: var(--fill-color);\n",
              "    }\n",
              "  }\n",
              "</style>\n",
              "\n",
              "      <script>\n",
              "        async function quickchart(key) {\n",
              "          const quickchartButtonEl =\n",
              "            document.querySelector('#' + key + ' button');\n",
              "          quickchartButtonEl.disabled = true;  // To prevent multiple clicks.\n",
              "          quickchartButtonEl.classList.add('colab-df-spinner');\n",
              "          try {\n",
              "            const charts = await google.colab.kernel.invokeFunction(\n",
              "                'suggestCharts', [key], {});\n",
              "          } catch (error) {\n",
              "            console.error('Error during call to suggestCharts:', error);\n",
              "          }\n",
              "          quickchartButtonEl.classList.remove('colab-df-spinner');\n",
              "          quickchartButtonEl.classList.add('colab-df-quickchart-complete');\n",
              "        }\n",
              "        (() => {\n",
              "          let quickchartButtonEl =\n",
              "            document.querySelector('#df-4087955d-005d-4552-adc9-1d4c61ea9761 button');\n",
              "          quickchartButtonEl.style.display =\n",
              "            google.colab.kernel.accessAllowed ? 'block' : 'none';\n",
              "        })();\n",
              "      </script>\n",
              "    </div>\n",
              "\n",
              "    </div>\n",
              "  </div>\n"
            ],
            "application/vnd.google.colaboratory.intrinsic+json": {
              "type": "dataframe",
              "variable_name": "df",
              "summary": "{\n  \"name\": \"df\",\n  \"rows\": 6435,\n  \"fields\": [\n    {\n      \"column\": \"Store\",\n      \"properties\": {\n        \"dtype\": \"number\",\n        \"std\": 12,\n        \"min\": 1,\n        \"max\": 45,\n        \"num_unique_values\": 45,\n        \"samples\": [\n          40,\n          26,\n          27\n        ],\n        \"semantic_type\": \"\",\n        \"description\": \"\"\n      }\n    },\n    {\n      \"column\": \"Date\",\n      \"properties\": {\n        \"dtype\": \"category\",\n        \"num_unique_values\": 143,\n        \"samples\": [\n          \"04-05-2012\",\n          \"18-06-2010\",\n          \"02-09-2011\"\n        ],\n        \"semantic_type\": \"\",\n        \"description\": \"\"\n      }\n    },\n    {\n      \"column\": \"Weekly_Sales\",\n      \"properties\": {\n        \"dtype\": \"number\",\n        \"std\": 564366.6220536974,\n        \"min\": 209986.25,\n        \"max\": 3818686.45,\n        \"num_unique_values\": 6435,\n        \"samples\": [\n          1138800.32,\n          1304850.67,\n          1769296.25\n        ],\n        \"semantic_type\": \"\",\n        \"description\": \"\"\n      }\n    },\n    {\n      \"column\": \"Holiday_Flag\",\n      \"properties\": {\n        \"dtype\": \"number\",\n        \"std\": 0,\n        \"min\": 0,\n        \"max\": 1,\n        \"num_unique_values\": 2,\n        \"samples\": [\n          1,\n          0\n        ],\n        \"semantic_type\": \"\",\n        \"description\": \"\"\n      }\n    },\n    {\n      \"column\": \"Temperature\",\n      \"properties\": {\n        \"dtype\": \"number\",\n        \"std\": 18.444932875811585,\n        \"min\": -2.06,\n        \"max\": 100.14,\n        \"num_unique_values\": 3528,\n        \"samples\": [\n          51.13,\n          98.15\n        ],\n        \"semantic_type\": \"\",\n        \"description\": \"\"\n      }\n    },\n    {\n      \"column\": \"Fuel_Price\",\n      \"properties\": {\n        \"dtype\": \"number\",\n        \"std\": 0.4590197071928516,\n        \"min\": 2.472,\n        \"max\": 4.468,\n        \"num_unique_values\": 892,\n        \"samples\": [\n          2.84,\n          3.95\n        ],\n        \"semantic_type\": \"\",\n        \"description\": \"\"\n      }\n    },\n    {\n      \"column\": \"CPI\",\n      \"properties\": {\n        \"dtype\": \"number\",\n        \"std\": 39.35671229566413,\n        \"min\": 126.064,\n        \"max\": 227.2328068,\n        \"num_unique_values\": 2145,\n        \"samples\": [\n          184.613419,\n          214.1083654\n        ],\n        \"semantic_type\": \"\",\n        \"description\": \"\"\n      }\n    },\n    {\n      \"column\": \"Unemployment\",\n      \"properties\": {\n        \"dtype\": \"number\",\n        \"std\": 1.8758847818628084,\n        \"min\": 3.879,\n        \"max\": 14.313,\n        \"num_unique_values\": 349,\n        \"samples\": [\n          8.185,\n          7.804\n        ],\n        \"semantic_type\": \"\",\n        \"description\": \"\"\n      }\n    }\n  ]\n}"
            }
          },
          "metadata": {},
          "execution_count": 4
        }
      ]
    },
    {
      "cell_type": "code",
      "source": [
        "#Stock historical data\n",
        "\n",
        "import yfinance as yf\n",
        "\n",
        "df=yf.download('AMZN',start='2025-01-01',end='2025-05-15')\n",
        "\n",
        "df.shape\n",
        "df.info()\n",
        "df.head()"
      ],
      "metadata": {
        "colab": {
          "base_uri": "https://localhost:8080/",
          "height": 494
        },
        "id": "kGcDP8lIKigl",
        "outputId": "cff0a13c-7ba3-4579-89c1-baa204ea6301"
      },
      "execution_count": null,
      "outputs": [
        {
          "output_type": "stream",
          "name": "stderr",
          "text": [
            "\r[*********************100%***********************]  1 of 1 completed"
          ]
        },
        {
          "output_type": "stream",
          "name": "stdout",
          "text": [
            "<class 'pandas.core.frame.DataFrame'>\n",
            "DatetimeIndex: 91 entries, 2025-01-02 to 2025-05-14\n",
            "Data columns (total 5 columns):\n",
            " #   Column          Non-Null Count  Dtype  \n",
            "---  ------          --------------  -----  \n",
            " 0   (Close, AMZN)   91 non-null     float64\n",
            " 1   (High, AMZN)    91 non-null     float64\n",
            " 2   (Low, AMZN)     91 non-null     float64\n",
            " 3   (Open, AMZN)    91 non-null     float64\n",
            " 4   (Volume, AMZN)  91 non-null     int64  \n",
            "dtypes: float64(4), int64(1)\n",
            "memory usage: 4.3 KB\n"
          ]
        },
        {
          "output_type": "stream",
          "name": "stderr",
          "text": [
            "\n"
          ]
        },
        {
          "output_type": "execute_result",
          "data": {
            "text/plain": [
              "Price            Close        High         Low        Open    Volume\n",
              "Ticker            AMZN        AMZN        AMZN        AMZN      AMZN\n",
              "Date                                                                \n",
              "2025-01-02  220.220001  225.149994  218.190002  222.029999  33956600\n",
              "2025-01-03  224.190002  225.360001  221.619995  222.509995  27515600\n",
              "2025-01-06  227.610001  228.839996  224.839996  226.779999  31849800\n",
              "2025-01-07  222.110001  228.380005  221.460007  227.899994  28084200\n",
              "2025-01-08  222.130005  223.520004  220.199997  223.190002  25033300"
            ],
            "text/html": [
              "\n",
              "  <div id=\"df-2d862100-87c3-47e0-9934-828de2581290\" class=\"colab-df-container\">\n",
              "    <div>\n",
              "<style scoped>\n",
              "    .dataframe tbody tr th:only-of-type {\n",
              "        vertical-align: middle;\n",
              "    }\n",
              "\n",
              "    .dataframe tbody tr th {\n",
              "        vertical-align: top;\n",
              "    }\n",
              "\n",
              "    .dataframe thead tr th {\n",
              "        text-align: left;\n",
              "    }\n",
              "\n",
              "    .dataframe thead tr:last-of-type th {\n",
              "        text-align: right;\n",
              "    }\n",
              "</style>\n",
              "<table border=\"1\" class=\"dataframe\">\n",
              "  <thead>\n",
              "    <tr>\n",
              "      <th>Price</th>\n",
              "      <th>Close</th>\n",
              "      <th>High</th>\n",
              "      <th>Low</th>\n",
              "      <th>Open</th>\n",
              "      <th>Volume</th>\n",
              "    </tr>\n",
              "    <tr>\n",
              "      <th>Ticker</th>\n",
              "      <th>AMZN</th>\n",
              "      <th>AMZN</th>\n",
              "      <th>AMZN</th>\n",
              "      <th>AMZN</th>\n",
              "      <th>AMZN</th>\n",
              "    </tr>\n",
              "    <tr>\n",
              "      <th>Date</th>\n",
              "      <th></th>\n",
              "      <th></th>\n",
              "      <th></th>\n",
              "      <th></th>\n",
              "      <th></th>\n",
              "    </tr>\n",
              "  </thead>\n",
              "  <tbody>\n",
              "    <tr>\n",
              "      <th>2025-01-02</th>\n",
              "      <td>220.220001</td>\n",
              "      <td>225.149994</td>\n",
              "      <td>218.190002</td>\n",
              "      <td>222.029999</td>\n",
              "      <td>33956600</td>\n",
              "    </tr>\n",
              "    <tr>\n",
              "      <th>2025-01-03</th>\n",
              "      <td>224.190002</td>\n",
              "      <td>225.360001</td>\n",
              "      <td>221.619995</td>\n",
              "      <td>222.509995</td>\n",
              "      <td>27515600</td>\n",
              "    </tr>\n",
              "    <tr>\n",
              "      <th>2025-01-06</th>\n",
              "      <td>227.610001</td>\n",
              "      <td>228.839996</td>\n",
              "      <td>224.839996</td>\n",
              "      <td>226.779999</td>\n",
              "      <td>31849800</td>\n",
              "    </tr>\n",
              "    <tr>\n",
              "      <th>2025-01-07</th>\n",
              "      <td>222.110001</td>\n",
              "      <td>228.380005</td>\n",
              "      <td>221.460007</td>\n",
              "      <td>227.899994</td>\n",
              "      <td>28084200</td>\n",
              "    </tr>\n",
              "    <tr>\n",
              "      <th>2025-01-08</th>\n",
              "      <td>222.130005</td>\n",
              "      <td>223.520004</td>\n",
              "      <td>220.199997</td>\n",
              "      <td>223.190002</td>\n",
              "      <td>25033300</td>\n",
              "    </tr>\n",
              "  </tbody>\n",
              "</table>\n",
              "</div>\n",
              "    <div class=\"colab-df-buttons\">\n",
              "\n",
              "  <div class=\"colab-df-container\">\n",
              "    <button class=\"colab-df-convert\" onclick=\"convertToInteractive('df-2d862100-87c3-47e0-9934-828de2581290')\"\n",
              "            title=\"Convert this dataframe to an interactive table.\"\n",
              "            style=\"display:none;\">\n",
              "\n",
              "  <svg xmlns=\"http://www.w3.org/2000/svg\" height=\"24px\" viewBox=\"0 -960 960 960\">\n",
              "    <path d=\"M120-120v-720h720v720H120Zm60-500h600v-160H180v160Zm220 220h160v-160H400v160Zm0 220h160v-160H400v160ZM180-400h160v-160H180v160Zm440 0h160v-160H620v160ZM180-180h160v-160H180v160Zm440 0h160v-160H620v160Z\"/>\n",
              "  </svg>\n",
              "    </button>\n",
              "\n",
              "  <style>\n",
              "    .colab-df-container {\n",
              "      display:flex;\n",
              "      gap: 12px;\n",
              "    }\n",
              "\n",
              "    .colab-df-convert {\n",
              "      background-color: #E8F0FE;\n",
              "      border: none;\n",
              "      border-radius: 50%;\n",
              "      cursor: pointer;\n",
              "      display: none;\n",
              "      fill: #1967D2;\n",
              "      height: 32px;\n",
              "      padding: 0 0 0 0;\n",
              "      width: 32px;\n",
              "    }\n",
              "\n",
              "    .colab-df-convert:hover {\n",
              "      background-color: #E2EBFA;\n",
              "      box-shadow: 0px 1px 2px rgba(60, 64, 67, 0.3), 0px 1px 3px 1px rgba(60, 64, 67, 0.15);\n",
              "      fill: #174EA6;\n",
              "    }\n",
              "\n",
              "    .colab-df-buttons div {\n",
              "      margin-bottom: 4px;\n",
              "    }\n",
              "\n",
              "    [theme=dark] .colab-df-convert {\n",
              "      background-color: #3B4455;\n",
              "      fill: #D2E3FC;\n",
              "    }\n",
              "\n",
              "    [theme=dark] .colab-df-convert:hover {\n",
              "      background-color: #434B5C;\n",
              "      box-shadow: 0px 1px 3px 1px rgba(0, 0, 0, 0.15);\n",
              "      filter: drop-shadow(0px 1px 2px rgba(0, 0, 0, 0.3));\n",
              "      fill: #FFFFFF;\n",
              "    }\n",
              "  </style>\n",
              "\n",
              "    <script>\n",
              "      const buttonEl =\n",
              "        document.querySelector('#df-2d862100-87c3-47e0-9934-828de2581290 button.colab-df-convert');\n",
              "      buttonEl.style.display =\n",
              "        google.colab.kernel.accessAllowed ? 'block' : 'none';\n",
              "\n",
              "      async function convertToInteractive(key) {\n",
              "        const element = document.querySelector('#df-2d862100-87c3-47e0-9934-828de2581290');\n",
              "        const dataTable =\n",
              "          await google.colab.kernel.invokeFunction('convertToInteractive',\n",
              "                                                    [key], {});\n",
              "        if (!dataTable) return;\n",
              "\n",
              "        const docLinkHtml = 'Like what you see? Visit the ' +\n",
              "          '<a target=\"_blank\" href=https://colab.research.google.com/notebooks/data_table.ipynb>data table notebook</a>'\n",
              "          + ' to learn more about interactive tables.';\n",
              "        element.innerHTML = '';\n",
              "        dataTable['output_type'] = 'display_data';\n",
              "        await google.colab.output.renderOutput(dataTable, element);\n",
              "        const docLink = document.createElement('div');\n",
              "        docLink.innerHTML = docLinkHtml;\n",
              "        element.appendChild(docLink);\n",
              "      }\n",
              "    </script>\n",
              "  </div>\n",
              "\n",
              "\n",
              "    <div id=\"df-0d70d1cf-0fec-4b4d-8aa4-0f69d44ee477\">\n",
              "      <button class=\"colab-df-quickchart\" onclick=\"quickchart('df-0d70d1cf-0fec-4b4d-8aa4-0f69d44ee477')\"\n",
              "                title=\"Suggest charts\"\n",
              "                style=\"display:none;\">\n",
              "\n",
              "<svg xmlns=\"http://www.w3.org/2000/svg\" height=\"24px\"viewBox=\"0 0 24 24\"\n",
              "     width=\"24px\">\n",
              "    <g>\n",
              "        <path d=\"M19 3H5c-1.1 0-2 .9-2 2v14c0 1.1.9 2 2 2h14c1.1 0 2-.9 2-2V5c0-1.1-.9-2-2-2zM9 17H7v-7h2v7zm4 0h-2V7h2v10zm4 0h-2v-4h2v4z\"/>\n",
              "    </g>\n",
              "</svg>\n",
              "      </button>\n",
              "\n",
              "<style>\n",
              "  .colab-df-quickchart {\n",
              "      --bg-color: #E8F0FE;\n",
              "      --fill-color: #1967D2;\n",
              "      --hover-bg-color: #E2EBFA;\n",
              "      --hover-fill-color: #174EA6;\n",
              "      --disabled-fill-color: #AAA;\n",
              "      --disabled-bg-color: #DDD;\n",
              "  }\n",
              "\n",
              "  [theme=dark] .colab-df-quickchart {\n",
              "      --bg-color: #3B4455;\n",
              "      --fill-color: #D2E3FC;\n",
              "      --hover-bg-color: #434B5C;\n",
              "      --hover-fill-color: #FFFFFF;\n",
              "      --disabled-bg-color: #3B4455;\n",
              "      --disabled-fill-color: #666;\n",
              "  }\n",
              "\n",
              "  .colab-df-quickchart {\n",
              "    background-color: var(--bg-color);\n",
              "    border: none;\n",
              "    border-radius: 50%;\n",
              "    cursor: pointer;\n",
              "    display: none;\n",
              "    fill: var(--fill-color);\n",
              "    height: 32px;\n",
              "    padding: 0;\n",
              "    width: 32px;\n",
              "  }\n",
              "\n",
              "  .colab-df-quickchart:hover {\n",
              "    background-color: var(--hover-bg-color);\n",
              "    box-shadow: 0 1px 2px rgba(60, 64, 67, 0.3), 0 1px 3px 1px rgba(60, 64, 67, 0.15);\n",
              "    fill: var(--button-hover-fill-color);\n",
              "  }\n",
              "\n",
              "  .colab-df-quickchart-complete:disabled,\n",
              "  .colab-df-quickchart-complete:disabled:hover {\n",
              "    background-color: var(--disabled-bg-color);\n",
              "    fill: var(--disabled-fill-color);\n",
              "    box-shadow: none;\n",
              "  }\n",
              "\n",
              "  .colab-df-spinner {\n",
              "    border: 2px solid var(--fill-color);\n",
              "    border-color: transparent;\n",
              "    border-bottom-color: var(--fill-color);\n",
              "    animation:\n",
              "      spin 1s steps(1) infinite;\n",
              "  }\n",
              "\n",
              "  @keyframes spin {\n",
              "    0% {\n",
              "      border-color: transparent;\n",
              "      border-bottom-color: var(--fill-color);\n",
              "      border-left-color: var(--fill-color);\n",
              "    }\n",
              "    20% {\n",
              "      border-color: transparent;\n",
              "      border-left-color: var(--fill-color);\n",
              "      border-top-color: var(--fill-color);\n",
              "    }\n",
              "    30% {\n",
              "      border-color: transparent;\n",
              "      border-left-color: var(--fill-color);\n",
              "      border-top-color: var(--fill-color);\n",
              "      border-right-color: var(--fill-color);\n",
              "    }\n",
              "    40% {\n",
              "      border-color: transparent;\n",
              "      border-right-color: var(--fill-color);\n",
              "      border-top-color: var(--fill-color);\n",
              "    }\n",
              "    60% {\n",
              "      border-color: transparent;\n",
              "      border-right-color: var(--fill-color);\n",
              "    }\n",
              "    80% {\n",
              "      border-color: transparent;\n",
              "      border-right-color: var(--fill-color);\n",
              "      border-bottom-color: var(--fill-color);\n",
              "    }\n",
              "    90% {\n",
              "      border-color: transparent;\n",
              "      border-bottom-color: var(--fill-color);\n",
              "    }\n",
              "  }\n",
              "</style>\n",
              "\n",
              "      <script>\n",
              "        async function quickchart(key) {\n",
              "          const quickchartButtonEl =\n",
              "            document.querySelector('#' + key + ' button');\n",
              "          quickchartButtonEl.disabled = true;  // To prevent multiple clicks.\n",
              "          quickchartButtonEl.classList.add('colab-df-spinner');\n",
              "          try {\n",
              "            const charts = await google.colab.kernel.invokeFunction(\n",
              "                'suggestCharts', [key], {});\n",
              "          } catch (error) {\n",
              "            console.error('Error during call to suggestCharts:', error);\n",
              "          }\n",
              "          quickchartButtonEl.classList.remove('colab-df-spinner');\n",
              "          quickchartButtonEl.classList.add('colab-df-quickchart-complete');\n",
              "        }\n",
              "        (() => {\n",
              "          let quickchartButtonEl =\n",
              "            document.querySelector('#df-0d70d1cf-0fec-4b4d-8aa4-0f69d44ee477 button');\n",
              "          quickchartButtonEl.style.display =\n",
              "            google.colab.kernel.accessAllowed ? 'block' : 'none';\n",
              "        })();\n",
              "      </script>\n",
              "    </div>\n",
              "\n",
              "    </div>\n",
              "  </div>\n"
            ],
            "application/vnd.google.colaboratory.intrinsic+json": {
              "type": "dataframe",
              "variable_name": "df",
              "summary": "{\n  \"name\": \"df\",\n  \"rows\": 91,\n  \"fields\": [\n    {\n      \"column\": [\n        \"Date\",\n        \"\"\n      ],\n      \"properties\": {\n        \"dtype\": \"date\",\n        \"min\": \"2025-01-02 00:00:00\",\n        \"max\": \"2025-05-14 00:00:00\",\n        \"num_unique_values\": 91,\n        \"samples\": [\n          \"2025-03-04 00:00:00\",\n          \"2025-02-05 00:00:00\",\n          \"2025-03-25 00:00:00\"\n        ],\n        \"semantic_type\": \"\",\n        \"description\": \"\"\n      }\n    },\n    {\n      \"column\": [\n        \"Close\",\n        \"AMZN\"\n      ],\n      \"properties\": {\n        \"dtype\": \"number\",\n        \"std\": 20.532902236597657,\n        \"min\": 167.32000732421875,\n        \"max\": 242.05999755859375,\n        \"num_unique_values\": 90,\n        \"samples\": [\n          208.36000061035156,\n          238.8300018310547,\n          201.1300048828125\n        ],\n        \"semantic_type\": \"\",\n        \"description\": \"\"\n      }\n    },\n    {\n      \"column\": [\n        \"High\",\n        \"AMZN\"\n      ],\n      \"properties\": {\n        \"dtype\": \"number\",\n        \"std\": 19.836629309618974,\n        \"min\": 169.60000610351562,\n        \"max\": 242.52000427246094,\n        \"num_unique_values\": 91,\n        \"samples\": [\n          206.8000030517578,\n          238.32000732421875,\n          206.2100067138672\n        ],\n        \"semantic_type\": \"\",\n        \"description\": \"\"\n      }\n    },\n    {\n      \"column\": [\n        \"Low\",\n        \"AMZN\"\n      ],\n      \"properties\": {\n        \"dtype\": \"number\",\n        \"std\": 21.220161331151182,\n        \"min\": 161.3800048828125,\n        \"max\": 238.02999877929688,\n        \"num_unique_values\": 91,\n        \"samples\": [\n          197.42999267578125,\n          235.1999969482422,\n          203.22000122070312\n        ],\n        \"semantic_type\": \"\",\n        \"description\": \"\"\n      }\n    },\n    {\n      \"column\": [\n        \"Open\",\n        \"AMZN\"\n      ],\n      \"properties\": {\n        \"dtype\": \"number\",\n        \"std\": 20.86019692316448,\n        \"min\": 162.0,\n        \"max\": 239.02000427246094,\n        \"num_unique_values\": 90,\n        \"samples\": [\n          200.11000061035156,\n          237.02000427246094,\n          203.60000610351562\n        ],\n        \"semantic_type\": \"\",\n        \"description\": \"\"\n      }\n    },\n    {\n      \"column\": [\n        \"Volume\",\n        \"AMZN\"\n      ],\n      \"properties\": {\n        \"dtype\": \"number\",\n        \"std\": 19712504,\n        \"min\": 23713700,\n        \"max\": 123159400,\n        \"num_unique_values\": 91,\n        \"samples\": [\n          60853100,\n          38727300,\n          31171200\n        ],\n        \"semantic_type\": \"\",\n        \"description\": \"\"\n      }\n    }\n  ]\n}"
            }
          },
          "metadata": {},
          "execution_count": 13
        }
      ]
    },
    {
      "cell_type": "markdown",
      "source": [
        "# DAY-6:17-05-2025"
      ],
      "metadata": {
        "id": "Xjx_l4TaWu44"
      }
    },
    {
      "cell_type": "code",
      "source": [
        "# List of products\n",
        "products = [\"Laptop\", \"Smartphone\", \"Tablet\", \"Monitor\", \"Keyboard\", \"Mouse\"]\n",
        "\n",
        "# Simulated user ratings for two different versions of the product page\n",
        "# Design A ratings (Group A sees new layout)\n",
        "ratings_a = [4.5, 4.0, 4.3, 3.9, 4.2, 4.1]\n",
        "\n",
        "# Design B ratings (Group B sees old layout)\n",
        "ratings_b = [4.2, 3.8, 4.0, 3.5, 4.0, 3.9]"
      ],
      "metadata": {
        "id": "5x9wOYojW5cF"
      },
      "execution_count": null,
      "outputs": []
    },
    {
      "cell_type": "code",
      "source": [
        "#Step-1 A/B Testing splitting\n",
        "\n",
        "# Group A: Every 2nd product starting from index 0\n",
        "group_a_products = products[::2]\n",
        "group_a_ratings = ratings_a[::2]\n",
        "print(\"Group A Products:\", group_a_products)\n",
        "print(\"Group A Ratings:\", group_a_ratings)\n",
        "\n",
        "# Group B: Every 2nd product starting from index 1\n",
        "group_b_products = products[1::2]\n",
        "group_b_ratings = ratings_b[1::2]\n",
        "print(\"Group B Products:\", group_b_products)\n",
        "print(\"Group B Ratings:\", group_b_ratings)"
      ],
      "metadata": {
        "colab": {
          "base_uri": "https://localhost:8080/"
        },
        "id": "Qm698PR1W9ju",
        "outputId": "4036d87f-5fe8-43b3-8e95-a0b22adcb709"
      },
      "execution_count": null,
      "outputs": [
        {
          "output_type": "stream",
          "name": "stdout",
          "text": [
            "Group A Products: ['Laptop', 'Tablet', 'Keyboard']\n",
            "Group A Ratings: [4.5, 4.3, 4.2]\n",
            "Group B Products: ['Smartphone', 'Monitor', 'Mouse']\n",
            "Group B Ratings: [3.8, 3.5, 3.9]\n"
          ]
        }
      ]
    },
    {
      "cell_type": "code",
      "source": [
        "#Step-2 Calculate average rating\n",
        "\n",
        "# Calculate averages\n",
        "avg_rating_a = sum(group_a_ratings) / len(group_a_ratings)\n",
        "avg_rating_b = sum(group_b_ratings) / len(group_b_ratings)\n",
        "\n",
        "print(\"\\nAverage Rating - Group A (New Design):\", round(avg_rating_a, 2))\n",
        "print(\"Average Rating - Group B (Old Design):\", round(avg_rating_b, 2))"
      ],
      "metadata": {
        "colab": {
          "base_uri": "https://localhost:8080/"
        },
        "id": "4iFX2M8yXHAO",
        "outputId": "42f6ea59-2d56-4b2e-b038-1d2a46fd8371"
      },
      "execution_count": null,
      "outputs": [
        {
          "output_type": "stream",
          "name": "stdout",
          "text": [
            "\n",
            "Average Rating - Group A (New Design): 4.33\n",
            "Average Rating - Group B (Old Design): 3.73\n"
          ]
        }
      ]
    },
    {
      "cell_type": "code",
      "source": [
        "#interpret result\n",
        "\n",
        "if avg_rating_a > avg_rating_b:\n",
        "    print(\"✅ New design performs better. Consider rolling it out!\")\n",
        "elif avg_rating_a < avg_rating_b:\n",
        "    print(\"⚠️ Old design performs better. Investigate why the new one didn't work.\")\n",
        "else:\n",
        "    print(\"🔄 Both designs perform equally. Consider other metrics like time-on-page or click-through.\")\n"
      ],
      "metadata": {
        "colab": {
          "base_uri": "https://localhost:8080/"
        },
        "id": "Td6PF3iRXPpX",
        "outputId": "74b0d03c-9068-4e69-f571-549fbdad4383"
      },
      "execution_count": null,
      "outputs": [
        {
          "output_type": "stream",
          "name": "stdout",
          "text": [
            "✅ New design performs better. Consider rolling it out!\n"
          ]
        }
      ]
    },
    {
      "cell_type": "markdown",
      "source": [
        "## **DAY-7:19-05-2025**"
      ],
      "metadata": {
        "id": "_qj0UOzpdj7o"
      }
    },
    {
      "cell_type": "code",
      "source": [
        "from math import dist\n",
        "\n",
        "# Tuple format: (Blood Pressure, Heart Rate, Temperature)\n",
        "known_patient_1 = (120, 80, 98.6)\n",
        "known_patient_2 = (130, 85, 99.1)\n",
        "new_patient      = (125, 82, 98.8)\n",
        "\n",
        "# Compare new patient with known ones\n",
        "distance1 = dist(new_patient, known_patient_1)\n",
        "distance2 = dist(new_patient, known_patient_2)\n",
        "\n",
        "# Decide closest match\n",
        "if distance1 < distance2:\n",
        "    print(\"New Patient is more similar to Known Patient 1\")\n",
        "else:\n",
        "    print(\"New Patient is more similar to Known Patient 2\")"
      ],
      "metadata": {
        "colab": {
          "base_uri": "https://localhost:8080/"
        },
        "id": "2dMnoyFqdsV3",
        "outputId": "1524b610-0c77-4bc1-9a32-9db3d0d82134"
      },
      "execution_count": null,
      "outputs": [
        {
          "output_type": "stream",
          "name": "stdout",
          "text": [
            "New Patient is more similar to Known Patient 1\n"
          ]
        }
      ]
    },
    {
      "cell_type": "markdown",
      "source": [
        "# **Various Basic Tuple Operations**"
      ],
      "metadata": {
        "id": "s-9RpXaGd_Ru"
      }
    },
    {
      "cell_type": "code",
      "source": [
        "# Creating a tuple\n",
        "my_tuple = (10, 20, 30, 40, 50)\n",
        "print(\"Original Tuple:\", my_tuple)\n",
        "\n",
        "# Indexing\n",
        "print(\"Element at index 0:\", my_tuple[0])\n",
        "print(\"Element at index -1 (last):\", my_tuple[-1])\n",
        "\n",
        "# Slicing\n",
        "print(\"Sliced Tuple [1:4]:\", my_tuple[1:4])\n",
        "\n",
        "# Concatenation\n",
        "tuple2 = (60, 70)\n",
        "combined_tuple = my_tuple + tuple2\n",
        "print(\"Concatenated Tuple:\", combined_tuple)\n",
        "\n",
        "# Repetition\n",
        "repeated_tuple = my_tuple * 2\n",
        "print(\"Repeated Tuple:\", repeated_tuple)\n",
        "\n",
        "# Membership Test\n",
        "print(\"Is 30 in my_tuple?\", 30 in my_tuple)\n",
        "print(\"Is 100 in my_tuple?\", 100 in my_tuple)\n",
        "\n",
        "# Iterating through a tuple\n",
        "print(\"Iterating through my_tuple:\")\n",
        "for item in my_tuple:\n",
        "    print(item)\n",
        "\n",
        "# Built-in functions\n",
        "print(\"Length of tuple:\", len(my_tuple))\n",
        "print(\"Maximum element:\", max(my_tuple))\n",
        "print(\"Minimum element:\", min(my_tuple))\n",
        "print(\"Sum of elements:\", sum(my_tuple))\n"
      ],
      "metadata": {
        "colab": {
          "base_uri": "https://localhost:8080/"
        },
        "id": "-0mlHtTPeAP3",
        "outputId": "d181e083-c9dd-41ba-bb84-cf22c975cdf4"
      },
      "execution_count": null,
      "outputs": [
        {
          "output_type": "stream",
          "name": "stdout",
          "text": [
            "Original Tuple: (10, 20, 30, 40, 50)\n",
            "Element at index 0: 10\n",
            "Element at index -1 (last): 50\n",
            "Sliced Tuple [1:4]: (20, 30, 40)\n",
            "Concatenated Tuple: (10, 20, 30, 40, 50, 60, 70)\n",
            "Repeated Tuple: (10, 20, 30, 40, 50, 10, 20, 30, 40, 50)\n",
            "Is 30 in my_tuple? True\n",
            "Is 100 in my_tuple? False\n",
            "Iterating through my_tuple:\n",
            "10\n",
            "20\n",
            "30\n",
            "40\n",
            "50\n",
            "Length of tuple: 5\n",
            "Maximum element: 50\n",
            "Minimum element: 10\n",
            "Sum of elements: 150\n"
          ]
        }
      ]
    },
    {
      "cell_type": "code",
      "source": [
        "# Each ride is represented as a tuple:\n",
        "# Format: (rider_id, driver_id, start_location, end_location, fare)\n",
        "\n",
        "ride1 = ('R123', 'D456', 'Banjara Hills', 'Gachibowli', 240.50)\n",
        "ride2 = ('R124', 'D457', 'Madhapur', 'Kukatpally', 180.75)\n",
        "ride3 = ('R125', 'D456', 'Ameerpet', 'HiTech City', 310.00)\n",
        "\n",
        "\n",
        "# Store all rides in a list of tuples\n",
        "all_rides = [ride1, ride2, ride3]\n",
        "\n",
        "# 1. Print details of each ride\n",
        "for ride in all_rides:\n",
        "    print(\"Rider\", ride[0], \"took a ride from\", ride[2], \"to\", ride[3], \"and paid ₹\", ride[4])\n",
        "\n",
        "# 2. Calculate total earnings of driver D456\n",
        "total_earnings = 0\n",
        "for ride in all_rides:\n",
        "    if ride[1] == 'D456':\n",
        "        total_earnings = total_earnings+ride[4]\n",
        "\n",
        "print(\"\\nTotal earnings of driver D456: ₹\", total_earnings)"
      ],
      "metadata": {
        "colab": {
          "base_uri": "https://localhost:8080/"
        },
        "id": "wzfGcn6UiqSp",
        "outputId": "20ed1345-58d8-4e1b-8325-d5e028789f9a"
      },
      "execution_count": null,
      "outputs": [
        {
          "output_type": "stream",
          "name": "stdout",
          "text": [
            "Rider R123 took a ride from Banjara Hills to Gachibowli and paid ₹ 240.5\n",
            "Rider R124 took a ride from Madhapur to Kukatpally and paid ₹ 180.75\n",
            "Rider R125 took a ride from Ameerpet to HiTech City and paid ₹ 310.0\n",
            "\n",
            "Total earnings of driver D456: ₹ 550.5\n"
          ]
        }
      ]
    },
    {
      "cell_type": "markdown",
      "source": [
        "# **Attempting to modify a tuple (will cause an error) and #Unpacking a tuple**"
      ],
      "metadata": {
        "id": "A6Z3qdyYoulk"
      }
    },
    {
      "cell_type": "code",
      "source": [
        "# Defining a tuple for a product\n",
        "product = (\"Laptop\", 1200, \"Electronics\")\n",
        "\n",
        "# Accessing tuple elements\n",
        "print(\"Product Name:\", product[0])\n",
        "print(\"Price:\", product[1])\n",
        "print(\"Category:\", product[2])\n",
        "\n",
        "# Attempting to modify a tuple (will cause an error)\n",
        "try:\n",
        "    product[1] = 1300  # Tuples are immutable\n",
        "except TypeError as e:\n",
        "    print(\"Error:\", e)\n",
        "\n",
        "# Unpacking a tuple\n",
        "name, price, category = product\n",
        "print(name,price,category)\n"
      ],
      "metadata": {
        "colab": {
          "base_uri": "https://localhost:8080/"
        },
        "id": "y0e7vxYcoxJJ",
        "outputId": "4080674b-0894-4521-854e-0cf2fb7d900c"
      },
      "execution_count": null,
      "outputs": [
        {
          "output_type": "stream",
          "name": "stdout",
          "text": [
            "Product Name: Laptop\n",
            "Price: 1200\n",
            "Category: Electronics\n",
            "Error: 'tuple' object does not support item assignment\n",
            "Laptop 1200 Electronics\n"
          ]
        }
      ]
    },
    {
      "cell_type": "markdown",
      "source": [
        "# **Day:8: 20-05-2025**\n",
        "\n",
        "**Real time Problem Statement**\n",
        "\n",
        "**City Weather Tracker**\n",
        "\n",
        "Scenario: Store and retrieve weather info for multiple cities.\n",
        "Task:\n",
        "\n",
        "Dictionary: {city: {'temperature': x, 'humidity': y}}\n",
        "\n",
        "Find the city with the highest humidity.\n",
        "\n",
        "Display temperature trends city-wise.\n",
        "\n",
        "Reference Website : https://mausam.imd.gov.in/"
      ],
      "metadata": {
        "id": "6k_FVOyB0ewS"
      }
    },
    {
      "cell_type": "code",
      "source": [
        "# City Weather Tracker\n",
        "# Dictionary to store weather data: {city: {'temperature': x, 'humidity': y}}\n",
        "\n",
        "weather_data = {\n",
        "    \"Delhi\": {\"temperature\": 32, \"humidity\": 65},\n",
        "    \"Mumbai\": {\"temperature\": 29, \"humidity\": 80},\n",
        "    \"Kolkata\": {\"temperature\": 31, \"humidity\": 75},\n",
        "    \"Chennai\": {\"temperature\": 33, \"humidity\": 70},\n",
        "    \"Bengaluru\": {\"temperature\": 28, \"humidity\": 60}\n",
        "}\n",
        "# Find city with highest humidity\n",
        "\n",
        "max_humidity_city = \"Delhi\"                      # Default to first city\n",
        "max_humidity = weather_data[\"Delhi\"][\"humidity\"]\n",
        "\n",
        "for city, info in weather_data.items():\n",
        "    if info[\"humidity\"] > max_humidity:\n",
        "        max_humidity = info[\"humidity\"]\n",
        "        max_humidity_city = city\n",
        "\n",
        "print(f\"City with highest humidity: {max_humidity_city} ({max_humidity}%)\")\n",
        "\n",
        "# Display temperature trends\n",
        "\n",
        "print(\"\\nTemperature Trends (City-wise):\")\n",
        "print(\"-\" * 30)\n",
        "print(f\"{'City':<15} {'Temperature (°C)':<15}\")\n",
        "print(\"-\" * 30)\n",
        "for city, info in sorted(weather_data.items()):\n",
        "    print(f\"{city:<15} {info['temperature']:<15}\")"
      ],
      "metadata": {
        "colab": {
          "base_uri": "https://localhost:8080/"
        },
        "id": "BkCAaK-865rk",
        "outputId": "8c831797-b947-48a4-bb5d-992085d5db9d"
      },
      "execution_count": 1,
      "outputs": [
        {
          "output_type": "stream",
          "name": "stdout",
          "text": [
            "City with highest humidity: Mumbai (80%)\n",
            "\n",
            "Temperature Trends (City-wise):\n",
            "------------------------------\n",
            "City            Temperature (°C)\n",
            "------------------------------\n",
            "Bengaluru       28             \n",
            "Chennai         33             \n",
            "Delhi           32             \n",
            "Kolkata         31             \n",
            "Mumbai          29             \n"
          ]
        }
      ]
    }
  ]
}